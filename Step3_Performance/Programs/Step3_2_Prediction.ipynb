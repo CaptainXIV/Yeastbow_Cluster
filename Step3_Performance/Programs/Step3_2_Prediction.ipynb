{
 "cells": [
  {
   "cell_type": "markdown",
   "metadata": {},
   "source": [
    "#####  Inputs:  \n",
    "######  --------            Step1_DataPreparation/D2_CSV_data/prediction_train.csv\n",
    "######  --------            Step2_MyNet/net\n",
    "\n",
    "#####  Outputs: \n",
    "######  --------            Outputs: prediction.csv"
   ]
  },
  {
   "cell_type": "code",
   "execution_count": 1,
   "metadata": {
    "collapsed": false
   },
   "outputs": [
    {
     "name": "stdout",
     "output_type": "stream",
     "text": [
      "/Users/Nevaeh/PythonCSCourse/XcodePython/FindCell2/Step2_MyNet\n"
     ]
    }
   ],
   "source": [
    "cd /Users/Nevaeh/PythonCSCourse/XcodePython/FindCell2/Step2_MyNet"
   ]
  },
  {
   "cell_type": "code",
   "execution_count": 17,
   "metadata": {
    "collapsed": false
   },
   "outputs": [
    {
     "name": "stdout",
     "output_type": "stream",
     "text": [
      "Loading ... \n",
      "Loading done! time:  6.046407938\n",
      "Done!\n",
      "Image number  (9, 131072)\n",
      "Result has been writen into csv files !\n"
     ]
    }
   ],
   "source": [
    "import tensorflow as tf\n",
    "import pandas as pd\n",
    "import numpy as np\n",
    "import RHX_Input\n",
    "import RHX_Network\n",
    "import RHX_Transformation\n",
    "\n",
    "tf.reset_default_graph() #This will ensure that the variables get the names you intended, but it will invalidate previously-created graphs\n",
    "\n",
    "\n",
    "\n",
    "###--------------------------------------------------------------###\n",
    "'''            --     Part 1: Loading  images    --              '''\n",
    "\n",
    "My_Data = RHX_Input.LoadImage(directory='../Step1_DataPreparation/D2_CSV_data',Filename='prediction',LabelSize=1) # Get location\n",
    "My_Data.RandomLoad()  # Load data\n",
    "\n",
    "InputSize  = My_Data.InputSize  # Get InputSize\n",
    "OutputSize = My_Data.OutputSize # Get OutputSize\n",
    "\n",
    "###---------------------------------------------------------------###\n",
    "\n",
    "\n",
    "###---------------------------------------------------------------###\n",
    "'''            --     Part 2: define  placeholder    --           '''\n",
    "\n",
    "with tf.name_scope('inputs'):\n",
    "    xs          = tf.placeholder(tf.float32, [None,InputSize*InputSize],   name = 'x_input')\n",
    "    ys          = tf.placeholder(tf.float32, [None,OutputSize*OutputSize], name = 'y_input')\n",
    "\n",
    "    keep_prob   = tf.placeholder(tf.float32, name ='Dropout')\n",
    "    \n",
    "    tst         = tf.placeholder(tf.bool)    # test flag for batch norm\n",
    "    iter        = tf.placeholder(tf.int32)\n",
    "\n",
    "    is_training = tf.placeholder(tf.float32, name='is_training')\n",
    "\n",
    "###-- -------------------------------------------------- --###\n",
    "\n",
    "\n",
    "\n",
    "###---------------------------------------------------------------###\n",
    "'''     --     Part 3:  get prediction from network    --         '''\n",
    "\n",
    "IMAGE_x_SIZE = InputSize\n",
    "IMAGE_y_SIZE = OutputSize\n",
    "\n",
    "#x_image,y_image = RHX_Transformation.inputs(xs,ys,InputSize,OutputSize,IMAGE_x_SIZE,IMAGE_y_SIZE)\n",
    "x_image,y_image = RHX_Transformation.distorted_inputs(xs,ys,InputSize,OutputSize,IMAGE_x_SIZE,IMAGE_y_SIZE)\n",
    "\n",
    "\n",
    "prediction = RHX_Network.inference(x_image,IMAGE_x_SIZE)\n",
    "\n",
    "\n",
    "# ###-- ---------------------------------------- --###\n",
    "# ###-- Part 4: load parameters from nets: start --###\n",
    "\n",
    "sess   = tf.Session()\n",
    "\n",
    "\n",
    "saver = tf.train.Saver()\n",
    "saver.restore(sess,\"my_net/save_net.ckpt\")\n",
    "\n",
    "\n",
    "###-- Part 4: load parameters from nets: start  --###\n",
    "###-- -------------------------------------- --###\n",
    "\n",
    "\n",
    "print \"Done!\"\n",
    "\n",
    "\n",
    "\n",
    "# Combine Prediction and Input\n",
    "Output =  pd.DataFrame([])\n",
    "\n",
    "for i in np.arange(My_Data.Frames):\n",
    "    x_data_test, y_data_test = My_Data.Batch_Prediction(i)\n",
    "    Predict_data,X_flip,Y_flip = sess.run([prediction,x_image,y_image], feed_dict={xs: x_data_test, ys: y_data_test, keep_prob: 1,is_training: 1,tst: False,iter: 1})\n",
    "\n",
    "    Temp = pd.DataFrame(np.concatenate([Predict_data.reshape([-1]),X_flip.reshape([-1])]))\n",
    "    Output = pd.concat([Output,Temp.T])\n",
    "print 'Image number ',Output.shape\n",
    "\n",
    "\n",
    "\n",
    "# Write it into csv\n",
    "Output.T.to_csv('/Users/Nevaeh/PythonCSCourse/XcodePython/FindCell2/Step3_Performance/prediction.csv',index=None)\n",
    "print \"Result has been writen into csv files !\"\n"
   ]
  },
  {
   "cell_type": "code",
   "execution_count": 18,
   "metadata": {
    "collapsed": false
   },
   "outputs": [
    {
     "data": {
      "text/plain": [
       "(9, 131072)"
      ]
     },
     "execution_count": 18,
     "metadata": {},
     "output_type": "execute_result"
    }
   ],
   "source": [
    "Output.shape"
   ]
  },
  {
   "cell_type": "code",
   "execution_count": 19,
   "metadata": {
    "collapsed": false
   },
   "outputs": [],
   "source": [
    "Output = pd.DataFrame(Output.values[-1,:]).T"
   ]
  },
  {
   "cell_type": "code",
   "execution_count": 20,
   "metadata": {
    "collapsed": false
   },
   "outputs": [
    {
     "data": {
      "text/plain": [
       "(1, 131072)"
      ]
     },
     "execution_count": 20,
     "metadata": {},
     "output_type": "execute_result"
    }
   ],
   "source": [
    "Output.shape"
   ]
  },
  {
   "cell_type": "code",
   "execution_count": 21,
   "metadata": {
    "collapsed": false
   },
   "outputs": [
    {
     "data": {
      "text/plain": [
       "(1, 131072)"
      ]
     },
     "execution_count": 21,
     "metadata": {},
     "output_type": "execute_result"
    }
   ],
   "source": [
    "pd.DataFrame(np.concatenate([x_data_test.reshape([-1]),x_data_test.reshape([-1])])).T.shape"
   ]
  },
  {
   "cell_type": "code",
   "execution_count": null,
   "metadata": {
    "collapsed": true
   },
   "outputs": [],
   "source": []
  }
 ],
 "metadata": {
  "anaconda-cloud": {},
  "kernelspec": {
   "display_name": "Python [Root]",
   "language": "python",
   "name": "Python [Root]"
  },
  "language_info": {
   "codemirror_mode": {
    "name": "ipython",
    "version": 2
   },
   "file_extension": ".py",
   "mimetype": "text/x-python",
   "name": "python",
   "nbconvert_exporter": "python",
   "pygments_lexer": "ipython2",
   "version": "2.7.12"
  }
 },
 "nbformat": 4,
 "nbformat_minor": 0
}
