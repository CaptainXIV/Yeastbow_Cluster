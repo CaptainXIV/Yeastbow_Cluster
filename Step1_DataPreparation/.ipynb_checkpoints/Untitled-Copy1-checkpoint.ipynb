{
 "cells": [
  {
   "cell_type": "code",
   "execution_count": 55,
   "metadata": {
    "collapsed": true
   },
   "outputs": [],
   "source": [
    "import scipy.io as sio\n",
    "import os\n",
    "from PIL import Image\n",
    "import matplotlib as mpl\n",
    "# import matplotlib.pyplot as plt\n",
    "# %matplotlib inline\n",
    "from functools import reduce\n",
    "import numpy as np\n",
    "import glob\n",
    "\n",
    "\n",
    "# EXPR_PATH = ['/Users/Nevaeh/PythonCSCourse/XcodePython/FindCell2/Step1_DataPreparation/D1_Training_Data/xy3']\n"
   ]
  },
  {
   "cell_type": "code",
   "execution_count": 56,
   "metadata": {
    "collapsed": false
   },
   "outputs": [],
   "source": [
    "\n",
    "\n",
    "def correct_image_path(path_imageBF):\n",
    "    pl = path_imageBF.split(':')\n",
    "    correct_path = '/Volumes/LTQ' + pl[1]\n",
    "    correct_path = reduce(lambda a,b: a+'/'+b,correct_path.split('\\\\'))\n",
    "    return correct_path\n",
    "\n",
    "\n",
    "def load_csg(filename_csg):\n",
    "    print('loading'+filename_csg)\n",
    "    mat_contents = sio.loadmat(filename_csg)\n",
    "    hh = mat_contents['hh']\n",
    "    val = hh[0, 0]\n",
    "    seg_data = dict()\n",
    "    seg_data['cellsegperim'] = val['cellsegperim']\n",
    "    seg_data['filenameBF'] = val['filenameBF']\n",
    "    seg_data['path_imageBF'] = str(val['pathnameBF'][0])\n",
    "    seg_data['path_imageBF'] = correct_image_path(seg_data['path_imageBF'])\n",
    "    \n",
    "    #     print '------'\n",
    "    seg_data['path_imageBF'] = EXPR_PATH[0]\n",
    "    #     print seg_data['path_imageBF'].split('/')\n",
    "    \n",
    "    return seg_data\n",
    "\n",
    "\n",
    "def transform_cellseg(cellseg):\n",
    "    cellsegs = list()\n",
    "    for i in range(cellseg.shape[0]):\n",
    "        seg = cellseg[i, 0]\n",
    "        if(seg.shape[1]==2):\n",
    "            cellsegs.append(seg)\n",
    "    return cellsegs\n",
    "\n",
    "\n",
    "def get_seg_im(seg_data, idx):\n",
    "    seg_im = dict()\n",
    "    seg_im['cellseg'] = transform_cellseg(seg_data['cellsegperim'][0, idx])\n",
    "#     seg_im['filenameBF'] = str(seg_data['filenameBF'][0, idx][0])\n",
    "#     image_file = os.path.join(seg_data['path_imageBF'], seg_im['filenameBF'])\n",
    "    image_file = os.path.join(seg_data['path_imageBF'], 'T0'+str(seg_data['filenameBF'][0,idx+1][0])[-8:-4]+'C01Z00'+str(depth)+'.tif')\n",
    "#     print image_file\n",
    "    seg_im['imageBF'] = np.array(Image.open(image_file))\n",
    "    return seg_im\n",
    "\n",
    "\n",
    "def extract_xypoint(filepath_csg):\n",
    "    # extract data from a single xypoint's images\n",
    "    seg_data = load_csg(filepath_csg)\n",
    "    n_frame = seg_data['cellsegperim'].shape[1]\n",
    "    seg_ims = list()\n",
    "    \n",
    "    ##  image tif:\n",
    "#     seg_im = get_seg_im(seg_data, 0)\n",
    "#     seg_ims.append(seg_im)\n",
    "    \n",
    "    ##  video tif :\n",
    "    for frame in range(0, n_frame, 1):#int(n_frame/5)):     # for each xypoint, extract 5 images\n",
    "        seg_im = get_seg_im(seg_data, frame)\n",
    "        seg_ims.append(seg_im)\n",
    "    return seg_ims\n",
    "\n",
    "def extract_expr(expr_path):\n",
    "    csg_paths = glob.glob(expr_path + '/*.csg')\n",
    "    seg_im_list = list()\n",
    "    for csg_file in csg_paths:\n",
    "        seg_ims = extract_xypoint(csg_file)\n",
    "        seg_im_list.extend(seg_ims)\n",
    "    return seg_im_list\n",
    "\n",
    "\n",
    "def get_seg_im_data():\n",
    "    seg_im_data = list()\n",
    "    for path in EXPR_PATH:\n",
    "        seg_im_data.extend(extract_expr(path))\n",
    "    return seg_im_data\n",
    "\n",
    "\n",
    "\n"
   ]
  },
  {
   "cell_type": "markdown",
   "metadata": {},
   "source": [
    "# .seg has right imagefile name"
   ]
  },
  {
   "cell_type": "code",
   "execution_count": 53,
   "metadata": {
    "collapsed": false
   },
   "outputs": [],
   "source": [
    "\n",
    "\n",
    "def correct_image_path(path_imageBF):\n",
    "    pl = path_imageBF.split(':')\n",
    "    correct_path = '/Volumes/LTQ' + pl[1]\n",
    "    correct_path = reduce(lambda a,b: a+'/'+b,correct_path.split('\\\\'))\n",
    "    return correct_path\n",
    "\n",
    "\n",
    "def load_csg(filename_csg):\n",
    "    print('loading'+filename_csg)\n",
    "    mat_contents = sio.loadmat(filename_csg)\n",
    "    hh = mat_contents['hh']\n",
    "    val = hh[0, 0]\n",
    "    seg_data = dict()\n",
    "    seg_data['cellsegperim'] = val['cellsegperim']\n",
    "    seg_data['filenameBF'] = val['filenameBF']\n",
    "    seg_data['path_imageBF'] = str(val['pathnameBF'][0])\n",
    "    seg_data['path_imageBF'] = correct_image_path(seg_data['path_imageBF'])\n",
    "    \n",
    "    #     print '------'\n",
    "    seg_data['path_imageBF'] = EXPR_PATH[0]\n",
    "    #     print seg_data['path_imageBF'].split('/')\n",
    "    \n",
    "    return seg_data\n",
    "\n",
    "\n",
    "def transform_cellseg(cellseg):\n",
    "    cellsegs = list()\n",
    "    for i in range(cellseg.shape[0]):\n",
    "        seg = cellseg[i, 0]\n",
    "        if(seg.shape[1]==2):\n",
    "            cellsegs.append(seg)\n",
    "    return cellsegs\n",
    "\n",
    "\n",
    "def get_seg_im(seg_data, idx):\n",
    "    seg_im = dict()\n",
    "    seg_im['cellseg'] = transform_cellseg(seg_data['cellsegperim'][0, idx])\n",
    "#     seg_im['filenameBF'] = str(seg_data['filenameBF'][0, idx][0])\n",
    "#     image_file = os.path.join(seg_data['path_imageBF'], seg_im['filenameBF'])\n",
    "    image_file = os.path.join(seg_data['path_imageBF'], 'T0'+str(seg_data['filenameBF'][0,idx][0])[2:6]+'C01Z00'+str(depth)+'.tif')\n",
    "#     print image_file\n",
    "    seg_im['imageBF'] = np.array(Image.open(image_file))\n",
    "    return seg_im\n",
    "\n",
    "\n",
    "def extract_xypoint(filepath_csg):\n",
    "    # extract data from a single xypoint's images\n",
    "    seg_data = load_csg(filepath_csg)\n",
    "    n_frame = seg_data['cellsegperim'].shape[1]\n",
    "    seg_ims = list()\n",
    "    \n",
    "    ##  image tif:\n",
    "#     seg_im = get_seg_im(seg_data, 0)\n",
    "#     seg_ims.append(seg_im)\n",
    "    \n",
    "    ##  video tif :\n",
    "    for frame in range(0, n_frame, 1):#int(n_frame/5)):     # for each xypoint, extract 5 images\n",
    "        seg_im = get_seg_im(seg_data, frame)\n",
    "        seg_ims.append(seg_im)\n",
    "    return seg_ims\n",
    "\n",
    "def extract_expr(expr_path):\n",
    "    csg_paths = glob.glob(expr_path + '/*.csg')\n",
    "    seg_im_list = list()\n",
    "    for csg_file in csg_paths:\n",
    "        seg_ims = extract_xypoint(csg_file)\n",
    "        seg_im_list.extend(seg_ims)\n",
    "    return seg_im_list\n",
    "\n",
    "\n",
    "def get_seg_im_data():\n",
    "    seg_im_data = list()\n",
    "    for path in EXPR_PATH:\n",
    "        seg_im_data.extend(extract_expr(path))\n",
    "    return seg_im_data\n",
    "\n",
    "\n",
    "\n"
   ]
  },
  {
   "cell_type": "code",
   "execution_count": 57,
   "metadata": {
    "collapsed": false
   },
   "outputs": [
    {
     "name": "stdout",
     "output_type": "stream",
     "text": [
      "1\n",
      "loading/Users/Nevaeh/PythonCSCourse/XcodePython/FindCell2/Step1_DataPreparation/D1_Training_Data/xy3/xy03.csg\n",
      "2\n",
      "loading/Users/Nevaeh/PythonCSCourse/XcodePython/FindCell2/Step1_DataPreparation/D1_Training_Data/xy3/xy03.csg\n",
      "3\n",
      "loading/Users/Nevaeh/PythonCSCourse/XcodePython/FindCell2/Step1_DataPreparation/D1_Training_Data/xy3/xy03.csg\n",
      "4\n",
      "loading/Users/Nevaeh/PythonCSCourse/XcodePython/FindCell2/Step1_DataPreparation/D1_Training_Data/xy3/xy03.csg\n",
      "5\n",
      "loading/Users/Nevaeh/PythonCSCourse/XcodePython/FindCell2/Step1_DataPreparation/D1_Training_Data/xy3/xy03.csg\n"
     ]
    }
   ],
   "source": [
    "global depth\n",
    "global EXPR_PATH\n",
    "\n",
    "EXPR_PATH = '/Users/Nevaeh/PythonCSCourse/XcodePython/FindCell2/Step1_DataPreparation/D1_Training_Data/xy'\n",
    "seg_im_data=[]\n",
    "\n",
    "\n",
    "for File in np.arange(3,4):\n",
    "    EXPR_PATH = [Path + str(File)] \n",
    "\n",
    "    for depth in np.arange(1,6):\n",
    "        print depth\n",
    "        seg_im_data.append(get_seg_im_data())\n",
    "\n"
   ]
  },
  {
   "cell_type": "code",
   "execution_count": 58,
   "metadata": {
    "collapsed": false
   },
   "outputs": [
    {
     "name": "stdout",
     "output_type": "stream",
     "text": [
      "seg_im_data.mat Generated!\n"
     ]
    }
   ],
   "source": [
    "# seg_im_data = get_seg_im_data()\n",
    "data = {'data':seg_im_data}\n",
    "sio.savemat('/Users/Nevaeh/PythonCSCourse/XcodePython/FindCell2/Step1_DataPreparation/D1_Training_Data/seg_im_data.mat', data)\n",
    "\n",
    "print 'seg_im_data.mat Generated!'"
   ]
  },
  {
   "cell_type": "code",
   "execution_count": null,
   "metadata": {
    "collapsed": true
   },
   "outputs": [],
   "source": []
  },
  {
   "cell_type": "code",
   "execution_count": null,
   "metadata": {
    "collapsed": true
   },
   "outputs": [],
   "source": []
  },
  {
   "cell_type": "code",
   "execution_count": null,
   "metadata": {
    "collapsed": true
   },
   "outputs": [],
   "source": []
  },
  {
   "cell_type": "code",
   "execution_count": null,
   "metadata": {
    "collapsed": true
   },
   "outputs": [],
   "source": []
  },
  {
   "cell_type": "code",
   "execution_count": null,
   "metadata": {
    "collapsed": true
   },
   "outputs": [],
   "source": []
  },
  {
   "cell_type": "code",
   "execution_count": null,
   "metadata": {
    "collapsed": true
   },
   "outputs": [],
   "source": []
  },
  {
   "cell_type": "code",
   "execution_count": null,
   "metadata": {
    "collapsed": true
   },
   "outputs": [],
   "source": []
  },
  {
   "cell_type": "code",
   "execution_count": null,
   "metadata": {
    "collapsed": true
   },
   "outputs": [],
   "source": []
  },
  {
   "cell_type": "code",
   "execution_count": 43,
   "metadata": {
    "collapsed": false
   },
   "outputs": [
    {
     "name": "stdout",
     "output_type": "stream",
     "text": [
      "loading/Users/Nevaeh/PythonCSCourse/XcodePython/FindCell2/Step1_DataPreparation/D1_Training_Data/xy4/xy04.csg\n"
     ]
    }
   ],
   "source": [
    "seg_data = load_csg('/Users/Nevaeh/PythonCSCourse/XcodePython/FindCell2/Step1_DataPreparation/D1_Training_Data/xy4/xy04.csg')"
   ]
  },
  {
   "cell_type": "code",
   "execution_count": 44,
   "metadata": {
    "collapsed": false
   },
   "outputs": [
    {
     "data": {
      "text/plain": [
       "'/Users/Nevaeh/PythonCSCourse/XcodePython/FindCell2/Step1_DataPreparation/D1_Training_Data/xy4'"
      ]
     },
     "execution_count": 44,
     "metadata": {},
     "output_type": "execute_result"
    }
   ],
   "source": [
    "seg_data['path_imageBF']"
   ]
  },
  {
   "cell_type": "code",
   "execution_count": 21,
   "metadata": {
    "collapsed": true
   },
   "outputs": [],
   "source": [
    "#     seg_im['cellseg'] = seg_data['cellsegperim']#transform_cellseg(seg_data['cellsegperim'][0, idx])\n",
    "#     seg_im['filenameBF'] = str(seg_data['filenameBF'][0, idx][0])\n",
    "#     image_file = os.path.join(seg_data['path_imageBF'], seg_im['filenameBF'])"
   ]
  },
  {
   "cell_type": "code",
   "execution_count": 45,
   "metadata": {
    "collapsed": false
   },
   "outputs": [
    {
     "data": {
      "text/plain": [
       "(1, 110)"
      ]
     },
     "execution_count": 45,
     "metadata": {},
     "output_type": "execute_result"
    }
   ],
   "source": [
    "seg_data['cellsegperim'].shape"
   ]
  },
  {
   "cell_type": "code",
   "execution_count": 46,
   "metadata": {
    "collapsed": false
   },
   "outputs": [
    {
     "data": {
      "text/plain": [
       "u'T00001C01Z002.tif'"
      ]
     },
     "execution_count": 46,
     "metadata": {},
     "output_type": "execute_result"
    }
   ],
   "source": [
    "seg_data['filenameBF'][0, 0][0]"
   ]
  },
  {
   "cell_type": "code",
   "execution_count": 24,
   "metadata": {
    "collapsed": false
   },
   "outputs": [
    {
     "ename": "NameError",
     "evalue": "name 'seg_im' is not defined",
     "output_type": "error",
     "traceback": [
      "\u001b[0;31m---------------------------------------------------------------------------\u001b[0m",
      "\u001b[0;31mNameError\u001b[0m                                 Traceback (most recent call last)",
      "\u001b[0;32m<ipython-input-24-41eb9e420492>\u001b[0m in \u001b[0;36m<module>\u001b[0;34m()\u001b[0m\n\u001b[0;32m----> 1\u001b[0;31m \u001b[0mseg_im\u001b[0m\u001b[0;34m[\u001b[0m\u001b[0;34m'filenameBF'\u001b[0m\u001b[0;34m]\u001b[0m\u001b[0;34m\u001b[0m\u001b[0m\n\u001b[0m",
      "\u001b[0;31mNameError\u001b[0m: name 'seg_im' is not defined"
     ]
    }
   ],
   "source": [
    "seg_im['filenameBF']"
   ]
  },
  {
   "cell_type": "code",
   "execution_count": 52,
   "metadata": {
    "collapsed": false
   },
   "outputs": [
    {
     "data": {
      "text/plain": [
       "'T00002C01Z001.tif'"
      ]
     },
     "execution_count": 52,
     "metadata": {},
     "output_type": "execute_result"
    }
   ],
   "source": [
    "'T0'+str(seg_data['filenameBF'][0,1][0])[2:6]+'C01Z001.tif'\n",
    "\n"
   ]
  },
  {
   "cell_type": "code",
   "execution_count": 26,
   "metadata": {
    "collapsed": false
   },
   "outputs": [
    {
     "data": {
      "text/plain": [
       "'T00001C01Z001.tif'"
      ]
     },
     "execution_count": 26,
     "metadata": {},
     "output_type": "execute_result"
    }
   ],
   "source": [
    "'T0'+str(seg_data['filenameBF'][0,idx][0])[-8:-4]+'C01Z001.tif'\n",
    "\n"
   ]
  },
  {
   "cell_type": "code",
   "execution_count": null,
   "metadata": {
    "collapsed": true
   },
   "outputs": [],
   "source": [
    "T00001C01Z001"
   ]
  }
 ],
 "metadata": {
  "anaconda-cloud": {},
  "kernelspec": {
   "display_name": "Python [Root]",
   "language": "python",
   "name": "Python [Root]"
  },
  "language_info": {
   "codemirror_mode": {
    "name": "ipython",
    "version": 2
   },
   "file_extension": ".py",
   "mimetype": "text/x-python",
   "name": "python",
   "nbconvert_exporter": "python",
   "pygments_lexer": "ipython2",
   "version": "2.7.12"
  }
 },
 "nbformat": 4,
 "nbformat_minor": 0
}
