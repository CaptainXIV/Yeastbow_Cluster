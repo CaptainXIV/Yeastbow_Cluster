{
 "cells": [
  {
   "cell_type": "code",
   "execution_count": 1,
   "metadata": {
    "collapsed": true
   },
   "outputs": [],
   "source": [
    "import scipy.io as sio\n",
    "import os\n",
    "from PIL import Image\n",
    "import matplotlib as mpl\n",
    "# import matplotlib.pyplot as plt\n",
    "# %matplotlib inline\n",
    "from functools import reduce\n",
    "import numpy as np\n",
    "import glob\n",
    "\n",
    "\n"
   ]
  },
  {
   "cell_type": "code",
   "execution_count": 35,
   "metadata": {
    "collapsed": false
   },
   "outputs": [],
   "source": [
    "\n",
    "\n",
    "def correct_image_path(path_imageBF):\n",
    "    pl = path_imageBF.split(':')\n",
    "    correct_path = '/Volumes/LTQ' + pl[1]\n",
    "    correct_path = reduce(lambda a,b: a+'/'+b,correct_path.split('\\\\'))\n",
    "    return correct_path\n",
    "\n",
    "\n",
    "def load_csg(filename_csg):\n",
    "    print('loading'+filename_csg)\n",
    "    mat_contents = sio.loadmat(filename_csg)\n",
    "    hh = mat_contents['hh']\n",
    "    val = hh[0, 0]\n",
    "    seg_data = dict()\n",
    "    seg_data['cellsegperim'] = val['cellsegperim']\n",
    "    seg_data['filenameBF'] = val['filenameBF']\n",
    "    seg_data['path_imageBF'] = str(val['pathnameBF'][0])\n",
    "    seg_data['path_imageBF'] = correct_image_path(seg_data['path_imageBF'])\n",
    "    \n",
    "    #     print '------'\n",
    "    seg_data['path_imageBF'] = EXPR_PATH[0]\n",
    "    #     print seg_data['path_imageBF'].split('/')\n",
    "    \n",
    "    return seg_data\n",
    "\n",
    "\n",
    "def transform_cellseg(cellseg):\n",
    "    cellsegs = list()\n",
    "    for i in range(cellseg.shape[0]):\n",
    "        seg = cellseg[i, 0]\n",
    "        if(seg.shape[1]==2):\n",
    "            cellsegs.append(seg)\n",
    "    return cellsegs\n",
    "\n",
    "\n",
    "def get_seg_im(seg_data, idx):\n",
    "    seg_im = dict()\n",
    "    seg_im['cellseg'] = transform_cellseg(seg_data['cellsegperim'][0, idx])\n",
    "    print idx#np.array(seg_data['filenameBF']).shape\n",
    "    \n",
    "    seg_im['filenameBF'] = str(seg_data['filenameBF'][0, idx][0])\n",
    "#     print seg_im['filenameBF']\n",
    "    image_file = os.path.join(seg_data['path_imageBF'], seg_im['filenameBF'])\n",
    "#     image_file = os.path.join(seg_data['path_imageBF'], 'T0'+str(seg_data['filenameBF'][0,idx+1][0])[-8:-4]+'C01Z00'+str(depth)+'.tif')\n",
    "#     print image_file\n",
    "    seg_im['imageBF'] = np.array(Image.open(image_file))\n",
    "    return seg_im\n",
    "\n",
    "\n",
    "def extract_xypoint(filepath_csg):\n",
    "    # extract data from a single xypoint's images\n",
    "    seg_data = load_csg(filepath_csg)\n",
    "    n_frame = seg_data['cellsegperim'].shape[1]\n",
    "    seg_ims = list()\n",
    "    \n",
    "    ##  image tif:\n",
    "#     seg_im = get_seg_im(seg_data, 0)\n",
    "#     seg_ims.append(seg_im)\n",
    "    \n",
    "    ##  video tif :\n",
    "    for frame in range(0, n_frame-4, 1):#int(n_frame/5)):     # for each xypoint, extract 5 images\n",
    "        print frame\n",
    "        seg_im = get_seg_im(seg_data, frame)\n",
    "        seg_ims.append(seg_im)\n",
    "    return seg_ims\n",
    "\n",
    "def extract_expr(expr_path):\n",
    "    csg_paths = glob.glob(expr_path + '/*.csg')\n",
    "    seg_im_list = list()\n",
    "    for csg_file in csg_paths:\n",
    "        seg_ims = extract_xypoint(csg_file)\n",
    "        seg_im_list.extend(seg_ims)\n",
    "    return seg_im_list\n",
    "\n",
    "\n",
    "def get_seg_im_data():\n",
    "    seg_im_data = list()\n",
    "    for path in EXPR_PATH:\n",
    "        seg_im_data.extend(extract_expr(path))\n",
    "    return seg_im_data\n",
    "\n",
    "\n",
    "\n"
   ]
  },
  {
   "cell_type": "code",
   "execution_count": 36,
   "metadata": {
    "collapsed": true
   },
   "outputs": [],
   "source": [
    "# single document"
   ]
  },
  {
   "cell_type": "code",
   "execution_count": 37,
   "metadata": {
    "collapsed": false,
    "scrolled": false
   },
   "outputs": [
    {
     "name": "stdout",
     "output_type": "stream",
     "text": [
      "1\n",
      "loading/Users/Nevaeh/PythonCSCourse/XcodePython/FindCell2/Step1_DataPreparation/D1_Training_Data/EvaluationDataset/xy24/xy24.csg\n",
      "0\n",
      "1\n",
      "2\n",
      "3\n",
      "4\n",
      "5\n",
      "6\n",
      "7\n",
      "8\n",
      "9\n",
      "10\n",
      "11\n",
      "12\n",
      "13\n",
      "14\n",
      "15\n",
      "16\n",
      "17\n",
      "18\n",
      "19\n",
      "20\n",
      "21\n",
      "22\n",
      "23\n",
      "24\n",
      "25\n",
      "26\n",
      "27\n",
      "28\n",
      "29\n",
      "30\n",
      "31\n",
      "32\n",
      "33\n",
      "34\n",
      "35\n",
      "36\n",
      "37\n",
      "38\n",
      "39\n",
      "40\n",
      "41\n",
      "42\n",
      "43\n",
      "44\n",
      "45\n",
      "46\n",
      "47\n",
      "48\n",
      "49\n",
      "50\n",
      "51\n",
      "52\n",
      "53\n",
      "54\n",
      "55\n",
      "56\n",
      "57\n",
      "58\n",
      "59\n",
      "60\n",
      "61\n",
      "62\n",
      "63\n",
      "64\n",
      "65\n",
      "66\n",
      "67\n",
      "68\n",
      "69\n",
      "70\n",
      "71\n",
      "72\n",
      "73\n",
      "74\n",
      "75\n",
      "76\n",
      "77\n",
      "78\n",
      "79\n",
      "80\n",
      "81\n",
      "82\n",
      "83\n",
      "84\n",
      "85\n",
      "86\n",
      "87\n",
      "88\n",
      "89\n",
      "90\n",
      "91\n",
      "92\n",
      "93\n",
      "94\n",
      "95\n",
      "96\n",
      "97\n",
      "98\n",
      "99\n",
      "100\n"
     ]
    },
    {
     "ename": "IndexError",
     "evalue": "index 100 is out of bounds for axis 1 with size 100",
     "output_type": "error",
     "traceback": [
      "\u001b[0;31m---------------------------------------------------------------------------\u001b[0m",
      "\u001b[0;31mIndexError\u001b[0m                                Traceback (most recent call last)",
      "\u001b[0;32m<ipython-input-37-9a7569240015>\u001b[0m in \u001b[0;36m<module>\u001b[0;34m()\u001b[0m\n\u001b[1;32m     10\u001b[0m \u001b[0;32mfor\u001b[0m \u001b[0mdepth\u001b[0m \u001b[0;32min\u001b[0m \u001b[0mnp\u001b[0m\u001b[0;34m.\u001b[0m\u001b[0marange\u001b[0m\u001b[0;34m(\u001b[0m\u001b[0;36m1\u001b[0m\u001b[0;34m,\u001b[0m\u001b[0;36m6\u001b[0m\u001b[0;34m)\u001b[0m\u001b[0;34m:\u001b[0m\u001b[0;34m\u001b[0m\u001b[0m\n\u001b[1;32m     11\u001b[0m     \u001b[0;32mprint\u001b[0m \u001b[0mdepth\u001b[0m\u001b[0;34m\u001b[0m\u001b[0m\n\u001b[0;32m---> 12\u001b[0;31m     \u001b[0mseg_im_data\u001b[0m\u001b[0;34m.\u001b[0m\u001b[0mappend\u001b[0m\u001b[0;34m(\u001b[0m\u001b[0mget_seg_im_data\u001b[0m\u001b[0;34m(\u001b[0m\u001b[0;34m)\u001b[0m\u001b[0;34m)\u001b[0m\u001b[0;34m\u001b[0m\u001b[0m\n\u001b[0m\u001b[1;32m     13\u001b[0m \u001b[0;34m\u001b[0m\u001b[0m\n\u001b[1;32m     14\u001b[0m \u001b[0mdata\u001b[0m \u001b[0;34m=\u001b[0m \u001b[0;34m{\u001b[0m\u001b[0;34m'data'\u001b[0m\u001b[0;34m:\u001b[0m\u001b[0mseg_im_data\u001b[0m\u001b[0;34m}\u001b[0m\u001b[0;34m\u001b[0m\u001b[0m\n",
      "\u001b[0;32m<ipython-input-35-52d54b587fa2>\u001b[0m in \u001b[0;36mget_seg_im_data\u001b[0;34m()\u001b[0m\n\u001b[1;32m     77\u001b[0m     \u001b[0mseg_im_data\u001b[0m \u001b[0;34m=\u001b[0m \u001b[0mlist\u001b[0m\u001b[0;34m(\u001b[0m\u001b[0;34m)\u001b[0m\u001b[0;34m\u001b[0m\u001b[0m\n\u001b[1;32m     78\u001b[0m     \u001b[0;32mfor\u001b[0m \u001b[0mpath\u001b[0m \u001b[0;32min\u001b[0m \u001b[0mEXPR_PATH\u001b[0m\u001b[0;34m:\u001b[0m\u001b[0;34m\u001b[0m\u001b[0m\n\u001b[0;32m---> 79\u001b[0;31m         \u001b[0mseg_im_data\u001b[0m\u001b[0;34m.\u001b[0m\u001b[0mextend\u001b[0m\u001b[0;34m(\u001b[0m\u001b[0mextract_expr\u001b[0m\u001b[0;34m(\u001b[0m\u001b[0mpath\u001b[0m\u001b[0;34m)\u001b[0m\u001b[0;34m)\u001b[0m\u001b[0;34m\u001b[0m\u001b[0m\n\u001b[0m\u001b[1;32m     80\u001b[0m     \u001b[0;32mreturn\u001b[0m \u001b[0mseg_im_data\u001b[0m\u001b[0;34m\u001b[0m\u001b[0m\n\u001b[1;32m     81\u001b[0m \u001b[0;34m\u001b[0m\u001b[0m\n",
      "\u001b[0;32m<ipython-input-35-52d54b587fa2>\u001b[0m in \u001b[0;36mextract_expr\u001b[0;34m(expr_path)\u001b[0m\n\u001b[1;32m     69\u001b[0m     \u001b[0mseg_im_list\u001b[0m \u001b[0;34m=\u001b[0m \u001b[0mlist\u001b[0m\u001b[0;34m(\u001b[0m\u001b[0;34m)\u001b[0m\u001b[0;34m\u001b[0m\u001b[0m\n\u001b[1;32m     70\u001b[0m     \u001b[0;32mfor\u001b[0m \u001b[0mcsg_file\u001b[0m \u001b[0;32min\u001b[0m \u001b[0mcsg_paths\u001b[0m\u001b[0;34m:\u001b[0m\u001b[0;34m\u001b[0m\u001b[0m\n\u001b[0;32m---> 71\u001b[0;31m         \u001b[0mseg_ims\u001b[0m \u001b[0;34m=\u001b[0m \u001b[0mextract_xypoint\u001b[0m\u001b[0;34m(\u001b[0m\u001b[0mcsg_file\u001b[0m\u001b[0;34m)\u001b[0m\u001b[0;34m\u001b[0m\u001b[0m\n\u001b[0m\u001b[1;32m     72\u001b[0m         \u001b[0mseg_im_list\u001b[0m\u001b[0;34m.\u001b[0m\u001b[0mextend\u001b[0m\u001b[0;34m(\u001b[0m\u001b[0mseg_ims\u001b[0m\u001b[0;34m)\u001b[0m\u001b[0;34m\u001b[0m\u001b[0m\n\u001b[1;32m     73\u001b[0m     \u001b[0;32mreturn\u001b[0m \u001b[0mseg_im_list\u001b[0m\u001b[0;34m\u001b[0m\u001b[0m\n",
      "\u001b[0;32m<ipython-input-35-52d54b587fa2>\u001b[0m in \u001b[0;36mextract_xypoint\u001b[0;34m(filepath_csg)\u001b[0m\n\u001b[1;32m     61\u001b[0m     \u001b[0;31m##  video tif :\u001b[0m\u001b[0;34m\u001b[0m\u001b[0;34m\u001b[0m\u001b[0m\n\u001b[1;32m     62\u001b[0m     \u001b[0;32mfor\u001b[0m \u001b[0mframe\u001b[0m \u001b[0;32min\u001b[0m \u001b[0mrange\u001b[0m\u001b[0;34m(\u001b[0m\u001b[0;36m0\u001b[0m\u001b[0;34m,\u001b[0m \u001b[0mn_frame\u001b[0m\u001b[0;34m-\u001b[0m\u001b[0;36m4\u001b[0m\u001b[0;34m,\u001b[0m \u001b[0;36m1\u001b[0m\u001b[0;34m)\u001b[0m\u001b[0;34m:\u001b[0m\u001b[0;31m#int(n_frame/5)):     # for each xypoint, extract 5 images\u001b[0m\u001b[0;34m\u001b[0m\u001b[0m\n\u001b[0;32m---> 63\u001b[0;31m         \u001b[0mseg_im\u001b[0m \u001b[0;34m=\u001b[0m \u001b[0mget_seg_im\u001b[0m\u001b[0;34m(\u001b[0m\u001b[0mseg_data\u001b[0m\u001b[0;34m,\u001b[0m \u001b[0mframe\u001b[0m\u001b[0;34m)\u001b[0m\u001b[0;34m\u001b[0m\u001b[0m\n\u001b[0m\u001b[1;32m     64\u001b[0m         \u001b[0mseg_ims\u001b[0m\u001b[0;34m.\u001b[0m\u001b[0mappend\u001b[0m\u001b[0;34m(\u001b[0m\u001b[0mseg_im\u001b[0m\u001b[0;34m)\u001b[0m\u001b[0;34m\u001b[0m\u001b[0m\n\u001b[1;32m     65\u001b[0m     \u001b[0;32mreturn\u001b[0m \u001b[0mseg_ims\u001b[0m\u001b[0;34m\u001b[0m\u001b[0m\n",
      "\u001b[0;32m<ipython-input-35-52d54b587fa2>\u001b[0m in \u001b[0;36mget_seg_im\u001b[0;34m(seg_data, idx)\u001b[0m\n\u001b[1;32m     40\u001b[0m     \u001b[0;32mprint\u001b[0m \u001b[0midx\u001b[0m\u001b[0;31m#np.array(seg_data['filenameBF']).shape\u001b[0m\u001b[0;34m\u001b[0m\u001b[0m\n\u001b[1;32m     41\u001b[0m \u001b[0;34m\u001b[0m\u001b[0m\n\u001b[0;32m---> 42\u001b[0;31m     \u001b[0mseg_im\u001b[0m\u001b[0;34m[\u001b[0m\u001b[0;34m'filenameBF'\u001b[0m\u001b[0;34m]\u001b[0m \u001b[0;34m=\u001b[0m \u001b[0mstr\u001b[0m\u001b[0;34m(\u001b[0m\u001b[0mseg_data\u001b[0m\u001b[0;34m[\u001b[0m\u001b[0;34m'filenameBF'\u001b[0m\u001b[0;34m]\u001b[0m\u001b[0;34m[\u001b[0m\u001b[0;36m0\u001b[0m\u001b[0;34m,\u001b[0m \u001b[0midx\u001b[0m\u001b[0;34m]\u001b[0m\u001b[0;34m[\u001b[0m\u001b[0;36m0\u001b[0m\u001b[0;34m]\u001b[0m\u001b[0;34m)\u001b[0m\u001b[0;34m\u001b[0m\u001b[0m\n\u001b[0m\u001b[1;32m     43\u001b[0m \u001b[0;31m#     print seg_im['filenameBF']\u001b[0m\u001b[0;34m\u001b[0m\u001b[0;34m\u001b[0m\u001b[0m\n\u001b[1;32m     44\u001b[0m     \u001b[0mimage_file\u001b[0m \u001b[0;34m=\u001b[0m \u001b[0mos\u001b[0m\u001b[0;34m.\u001b[0m\u001b[0mpath\u001b[0m\u001b[0;34m.\u001b[0m\u001b[0mjoin\u001b[0m\u001b[0;34m(\u001b[0m\u001b[0mseg_data\u001b[0m\u001b[0;34m[\u001b[0m\u001b[0;34m'path_imageBF'\u001b[0m\u001b[0;34m]\u001b[0m\u001b[0;34m,\u001b[0m \u001b[0mseg_im\u001b[0m\u001b[0;34m[\u001b[0m\u001b[0;34m'filenameBF'\u001b[0m\u001b[0;34m]\u001b[0m\u001b[0;34m)\u001b[0m\u001b[0;34m\u001b[0m\u001b[0m\n",
      "\u001b[0;31mIndexError\u001b[0m: index 100 is out of bounds for axis 1 with size 100"
     ]
    }
   ],
   "source": [
    "global depth\n",
    "global EXPR_PATH\n",
    "\n",
    "EXPR_PATH = ['/Users/Nevaeh/PythonCSCourse/XcodePython/FindCell2/Step1_DataPreparation/D1_Training_Data/EvaluationDataset/xy24']\n",
    "\n",
    "\n",
    "seg_im_data=[]\n",
    "\n",
    "\n",
    "for depth in np.arange(1,6):\n",
    "    print depth\n",
    "    seg_im_data.append(get_seg_im_data())\n",
    "\n",
    "data = {'data':seg_im_data}\n",
    "sio.savemat('/Users/Nevaeh/PythonCSCourse/XcodePython/FindCell2/Step1_DataPreparation/D1_Training_Data/Evaluation_data.mat', data)\n",
    "\n",
    "print 'seg_im_data.mat Generated!'\n"
   ]
  },
  {
   "cell_type": "markdown",
   "metadata": {},
   "source": [
    "# 有效数据文件夹：xy_[1 2 5 6 7 8 9 10 12 13 14 17 19 20]"
   ]
  },
  {
   "cell_type": "code",
   "execution_count": 100,
   "metadata": {
    "collapsed": false,
    "scrolled": false
   },
   "outputs": [
    {
     "name": "stdout",
     "output_type": "stream",
     "text": [
      "1\n",
      "loading/Volumes/Elements/data_cell_segmental_zmgao/experiemental1/figure/xy1/xy01.csg\n",
      "2\n",
      "loading/Volumes/Elements/data_cell_segmental_zmgao/experiemental1/figure/xy1/xy01.csg\n",
      "3\n",
      "loading/Volumes/Elements/data_cell_segmental_zmgao/experiemental1/figure/xy1/xy01.csg\n",
      "4\n",
      "loading/Volumes/Elements/data_cell_segmental_zmgao/experiemental1/figure/xy1/xy01.csg\n",
      "5\n",
      "loading/Volumes/Elements/data_cell_segmental_zmgao/experiemental1/figure/xy1/xy01.csg\n",
      "1\n",
      "loading/Volumes/Elements/data_cell_segmental_zmgao/experiemental1/figure/xy2/xy02.csg\n",
      "2\n",
      "loading/Volumes/Elements/data_cell_segmental_zmgao/experiemental1/figure/xy2/xy02.csg\n",
      "3\n",
      "loading/Volumes/Elements/data_cell_segmental_zmgao/experiemental1/figure/xy2/xy02.csg\n",
      "4\n",
      "loading/Volumes/Elements/data_cell_segmental_zmgao/experiemental1/figure/xy2/xy02.csg\n",
      "5\n",
      "loading/Volumes/Elements/data_cell_segmental_zmgao/experiemental1/figure/xy2/xy02.csg\n",
      "1\n",
      "loading/Volumes/Elements/data_cell_segmental_zmgao/experiemental1/figure/xy5/xy05.csg\n",
      "2\n",
      "loading/Volumes/Elements/data_cell_segmental_zmgao/experiemental1/figure/xy5/xy05.csg\n",
      "3\n",
      "loading/Volumes/Elements/data_cell_segmental_zmgao/experiemental1/figure/xy5/xy05.csg\n",
      "4\n",
      "loading/Volumes/Elements/data_cell_segmental_zmgao/experiemental1/figure/xy5/xy05.csg\n",
      "5\n",
      "loading/Volumes/Elements/data_cell_segmental_zmgao/experiemental1/figure/xy5/xy05.csg\n",
      "1\n",
      "loading/Volumes/Elements/data_cell_segmental_zmgao/experiemental1/figure/xy6/xy06.csg\n",
      "2\n",
      "loading/Volumes/Elements/data_cell_segmental_zmgao/experiemental1/figure/xy6/xy06.csg\n",
      "3\n",
      "loading/Volumes/Elements/data_cell_segmental_zmgao/experiemental1/figure/xy6/xy06.csg\n",
      "4\n",
      "loading/Volumes/Elements/data_cell_segmental_zmgao/experiemental1/figure/xy6/xy06.csg\n",
      "5\n",
      "loading/Volumes/Elements/data_cell_segmental_zmgao/experiemental1/figure/xy6/xy06.csg\n",
      "1\n",
      "loading/Volumes/Elements/data_cell_segmental_zmgao/experiemental1/figure/xy7/xy07.csg\n",
      "2\n",
      "loading/Volumes/Elements/data_cell_segmental_zmgao/experiemental1/figure/xy7/xy07.csg\n",
      "3\n",
      "loading/Volumes/Elements/data_cell_segmental_zmgao/experiemental1/figure/xy7/xy07.csg\n",
      "4\n",
      "loading/Volumes/Elements/data_cell_segmental_zmgao/experiemental1/figure/xy7/xy07.csg\n",
      "5\n",
      "loading/Volumes/Elements/data_cell_segmental_zmgao/experiemental1/figure/xy7/xy07.csg\n",
      "1\n",
      "loading/Volumes/Elements/data_cell_segmental_zmgao/experiemental1/figure/xy8/xy08.csg\n",
      "2\n",
      "loading/Volumes/Elements/data_cell_segmental_zmgao/experiemental1/figure/xy8/xy08.csg\n",
      "3\n",
      "loading/Volumes/Elements/data_cell_segmental_zmgao/experiemental1/figure/xy8/xy08.csg\n",
      "4\n",
      "loading/Volumes/Elements/data_cell_segmental_zmgao/experiemental1/figure/xy8/xy08.csg\n",
      "5\n",
      "loading/Volumes/Elements/data_cell_segmental_zmgao/experiemental1/figure/xy8/xy08.csg\n",
      "seg_im_data.mat Generated!\n"
     ]
    }
   ],
   "source": [
    "global depth\n",
    "global EXPR_PATH\n",
    "\n",
    "Path = '/Volumes/Elements/data_cell_segmental_zmgao/experiemental1/figure/xy'\n",
    "\n",
    "seg_im_data=[]\n",
    "\n",
    "\n",
    "for File in [1,2,5,6,7,8]:\n",
    "    EXPR_PATH = [Path + str(File)] \n",
    "\n",
    "    for depth in np.arange(1,6):\n",
    "        print depth\n",
    "        seg_im_data.append(get_seg_im_data())\n",
    "\n",
    "# seg_im_data = get_seg_im_data()\n",
    "data = {'data':seg_im_data}\n",
    "sio.savemat('/Users/Nevaeh/PythonCSCourse/XcodePython/FindCell2/Step1_DataPreparation/D1_Training_Data/seg_im_data_GZM.mat', data)\n",
    "\n",
    "print 'seg_im_data.mat Generated!'"
   ]
  },
  {
   "cell_type": "code",
   "execution_count": null,
   "metadata": {
    "collapsed": true
   },
   "outputs": [],
   "source": []
  },
  {
   "cell_type": "code",
   "execution_count": null,
   "metadata": {
    "collapsed": true
   },
   "outputs": [],
   "source": []
  },
  {
   "cell_type": "code",
   "execution_count": null,
   "metadata": {
    "collapsed": true
   },
   "outputs": [],
   "source": []
  },
  {
   "cell_type": "code",
   "execution_count": null,
   "metadata": {
    "collapsed": true
   },
   "outputs": [],
   "source": []
  },
  {
   "cell_type": "code",
   "execution_count": null,
   "metadata": {
    "collapsed": true
   },
   "outputs": [],
   "source": []
  },
  {
   "cell_type": "code",
   "execution_count": null,
   "metadata": {
    "collapsed": true
   },
   "outputs": [],
   "source": []
  },
  {
   "cell_type": "code",
   "execution_count": 43,
   "metadata": {
    "collapsed": false
   },
   "outputs": [
    {
     "name": "stdout",
     "output_type": "stream",
     "text": [
      "loading/Users/Nevaeh/PythonCSCourse/XcodePython/FindCell2/Step1_DataPreparation/D1_Training_Data/xy4/xy04.csg\n"
     ]
    }
   ],
   "source": [
    "seg_data = load_csg('/Users/Nevaeh/PythonCSCourse/XcodePython/FindCell2/Step1_DataPreparation/D1_Training_Data/xy4/xy04.csg')"
   ]
  },
  {
   "cell_type": "code",
   "execution_count": 44,
   "metadata": {
    "collapsed": false
   },
   "outputs": [
    {
     "data": {
      "text/plain": [
       "'/Users/Nevaeh/PythonCSCourse/XcodePython/FindCell2/Step1_DataPreparation/D1_Training_Data/xy4'"
      ]
     },
     "execution_count": 44,
     "metadata": {},
     "output_type": "execute_result"
    }
   ],
   "source": [
    "seg_data['path_imageBF']"
   ]
  },
  {
   "cell_type": "code",
   "execution_count": 21,
   "metadata": {
    "collapsed": true
   },
   "outputs": [],
   "source": [
    "#     seg_im['cellseg'] = seg_data['cellsegperim']#transform_cellseg(seg_data['cellsegperim'][0, idx])\n",
    "#     seg_im['filenameBF'] = str(seg_data['filenameBF'][0, idx][0])\n",
    "#     image_file = os.path.join(seg_data['path_imageBF'], seg_im['filenameBF'])"
   ]
  },
  {
   "cell_type": "code",
   "execution_count": 45,
   "metadata": {
    "collapsed": false
   },
   "outputs": [
    {
     "data": {
      "text/plain": [
       "(1, 110)"
      ]
     },
     "execution_count": 45,
     "metadata": {},
     "output_type": "execute_result"
    }
   ],
   "source": [
    "seg_data['cellsegperim'].shape"
   ]
  },
  {
   "cell_type": "code",
   "execution_count": 46,
   "metadata": {
    "collapsed": false
   },
   "outputs": [
    {
     "data": {
      "text/plain": [
       "u'T00001C01Z002.tif'"
      ]
     },
     "execution_count": 46,
     "metadata": {},
     "output_type": "execute_result"
    }
   ],
   "source": [
    "seg_data['filenameBF'][0, 0][0]"
   ]
  },
  {
   "cell_type": "code",
   "execution_count": 24,
   "metadata": {
    "collapsed": false
   },
   "outputs": [
    {
     "ename": "NameError",
     "evalue": "name 'seg_im' is not defined",
     "output_type": "error",
     "traceback": [
      "\u001b[0;31m---------------------------------------------------------------------------\u001b[0m",
      "\u001b[0;31mNameError\u001b[0m                                 Traceback (most recent call last)",
      "\u001b[0;32m<ipython-input-24-41eb9e420492>\u001b[0m in \u001b[0;36m<module>\u001b[0;34m()\u001b[0m\n\u001b[0;32m----> 1\u001b[0;31m \u001b[0mseg_im\u001b[0m\u001b[0;34m[\u001b[0m\u001b[0;34m'filenameBF'\u001b[0m\u001b[0;34m]\u001b[0m\u001b[0;34m\u001b[0m\u001b[0m\n\u001b[0m",
      "\u001b[0;31mNameError\u001b[0m: name 'seg_im' is not defined"
     ]
    }
   ],
   "source": [
    "seg_im['filenameBF']"
   ]
  },
  {
   "cell_type": "code",
   "execution_count": 52,
   "metadata": {
    "collapsed": false
   },
   "outputs": [
    {
     "data": {
      "text/plain": [
       "'T00002C01Z001.tif'"
      ]
     },
     "execution_count": 52,
     "metadata": {},
     "output_type": "execute_result"
    }
   ],
   "source": [
    "'T0'+str(seg_data['filenameBF'][0,1][0])[2:6]+'C01Z001.tif'\n",
    "\n"
   ]
  },
  {
   "cell_type": "code",
   "execution_count": 26,
   "metadata": {
    "collapsed": false
   },
   "outputs": [
    {
     "data": {
      "text/plain": [
       "'T00001C01Z001.tif'"
      ]
     },
     "execution_count": 26,
     "metadata": {},
     "output_type": "execute_result"
    }
   ],
   "source": [
    "'T0'+str(seg_data['filenameBF'][0,idx][0])[-8:-4]+'C01Z001.tif'\n",
    "\n"
   ]
  },
  {
   "cell_type": "code",
   "execution_count": null,
   "metadata": {
    "collapsed": true
   },
   "outputs": [],
   "source": [
    "T00001C01Z001"
   ]
  }
 ],
 "metadata": {
  "anaconda-cloud": {},
  "kernelspec": {
   "display_name": "Python [Root]",
   "language": "python",
   "name": "Python [Root]"
  },
  "language_info": {
   "codemirror_mode": {
    "name": "ipython",
    "version": 2
   },
   "file_extension": ".py",
   "mimetype": "text/x-python",
   "name": "python",
   "nbconvert_exporter": "python",
   "pygments_lexer": "ipython2",
   "version": "2.7.12"
  }
 },
 "nbformat": 4,
 "nbformat_minor": 0
}
