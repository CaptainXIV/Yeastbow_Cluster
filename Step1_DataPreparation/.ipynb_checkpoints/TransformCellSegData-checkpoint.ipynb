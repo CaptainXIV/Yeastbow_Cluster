{
 "cells": [
  {
   "cell_type": "code",
   "execution_count": 125,
   "metadata": {
    "collapsed": false
   },
   "outputs": [],
   "source": [
    "import scipy.io as sio\n",
    "import os\n",
    "from PIL import Image\n",
    "import matplotlib as mpl\n",
    "import matplotlib.pyplot as plt\n",
    "%matplotlib inline\n",
    "from functools import reduce\n",
    "import numpy as np\n",
    "import glob\n",
    "\n",
    "\n",
    "EXPR_PATH = ['/Users/Nevaeh/PythonCSCourse/XcodePython/FindCell2/matlab/FissionYeast/60oil  Log']\n",
    "\n",
    "\n",
    "def correct_image_path(path_imageBF):\n",
    "    pl = path_imageBF.split(':')\n",
    "    correct_path = '/Volumes/LTQ' + pl[1]\n",
    "    correct_path = reduce(lambda a,b: a+'/'+b,correct_path.split('\\\\'))\n",
    "    return correct_path\n",
    "\n",
    "\n",
    "def load_csg(filename_csg):\n",
    "    print('loading'+filename_csg)\n",
    "    mat_contents = sio.loadmat(filename_csg)\n",
    "    hh = mat_contents['hh']\n",
    "    val = hh[0, 0]\n",
    "    seg_data = dict()\n",
    "    seg_data['cellsegperim'] = val['cellsegperim']\n",
    "    seg_data['filenameBF'] = val['filenameBF']\n",
    "    seg_data['path_imageBF'] = str(val['pathnameBF'][0])\n",
    "    seg_data['path_imageBF'] = correct_image_path(seg_data['path_imageBF'])\n",
    "    \n",
    "#     print '------'\n",
    "    seg_data['path_imageBF'] = EXPR_PATH[0]\n",
    "#     print seg_data['path_imageBF'].split('/')\n",
    "    \n",
    "    return seg_data\n",
    "\n",
    "\n",
    "def transform_cellseg(cellseg):\n",
    "    cellsegs = list()\n",
    "    for i in range(cellseg.shape[0]):\n",
    "        seg = cellseg[i, 0]\n",
    "        if(seg.shape[1]==2):\n",
    "            cellsegs.append(seg)\n",
    "    return cellsegs\n",
    "\n",
    "\n",
    "def get_seg_im(seg_data, idx):\n",
    "    seg_im = dict()\n",
    "    seg_im['cellseg'] = seg_data['cellsegperim']#transform_cellseg(seg_data['cellsegperim'][0, idx])\n",
    "    seg_im['filenameBF'] = str(seg_data['filenameBF'][0, idx][0])\n",
    "    image_file = os.path.join(seg_data['path_imageBF'], seg_im['filenameBF'])\n",
    "    seg_im['imageBF'] = np.array(Image.open(image_file))\n",
    "    return seg_im\n",
    "\n",
    "\n",
    "def extract_xypoint(filepath_csg):\n",
    "    # extract data from a single xypoint's images\n",
    "    seg_data = load_csg(filepath_csg)\n",
    "    n_frame = seg_data['cellsegperim'].shape[1]\n",
    "    seg_ims = list()\n",
    "    \n",
    "##  image tif:\n",
    "    seg_im = get_seg_im(seg_data, 0)\n",
    "    seg_ims.append(seg_im)  \n",
    "    \n",
    "##  video tif :    \n",
    "#     for frame in range(0, n_frame, int(n_frame/5)):     # for each xypoint, extract 5 images\n",
    "#         seg_im = get_seg_im(seg_data, frame)\n",
    "#         seg_ims.append(seg_im)\n",
    "    return seg_ims\n",
    "\n",
    "def extract_expr(expr_path):\n",
    "    csg_paths = glob.glob(expr_path + '/*.csg')\n",
    "    seg_im_list = list()\n",
    "    for csg_file in csg_paths:\n",
    "        seg_ims = extract_xypoint(csg_file)\n",
    "        seg_im_list.extend(seg_ims)\n",
    "    return seg_im_list\n",
    "\n",
    "\n",
    "def get_seg_im_data():\n",
    "    seg_im_data = list()\n",
    "    for path in EXPR_PATH:\n",
    "        seg_im_data.extend(extract_expr(path))\n",
    "    return seg_im_data"
   ]
  },
  {
   "cell_type": "code",
   "execution_count": 126,
   "metadata": {
    "collapsed": false,
    "scrolled": true
   },
   "outputs": [
    {
     "name": "stdout",
     "output_type": "stream",
     "text": [
      "loading/Users/Nevaeh/PythonCSCourse/XcodePython/FindCell2/matlab/FissionYeast/60oil  Log/6h ve xy01.csg\n",
      "loading/Users/Nevaeh/PythonCSCourse/XcodePython/FindCell2/matlab/FissionYeast/60oil  Log/6h ve xy02.csg\n",
      "loading/Users/Nevaeh/PythonCSCourse/XcodePython/FindCell2/matlab/FissionYeast/60oil  Log/6h ve xy03.csg\n",
      "loading/Users/Nevaeh/PythonCSCourse/XcodePython/FindCell2/matlab/FissionYeast/60oil  Log/6h ve xy04.csg\n",
      "loading/Users/Nevaeh/PythonCSCourse/XcodePython/FindCell2/matlab/FissionYeast/60oil  Log/6h ve xy05.csg\n",
      "loading/Users/Nevaeh/PythonCSCourse/XcodePython/FindCell2/matlab/FissionYeast/60oil  Log/6h ve xy06.csg\n",
      "loading/Users/Nevaeh/PythonCSCourse/XcodePython/FindCell2/matlab/FissionYeast/60oil  Log/6h ve xy07.csg\n",
      "loading/Users/Nevaeh/PythonCSCourse/XcodePython/FindCell2/matlab/FissionYeast/60oil  Log/6h ve xy08.csg\n",
      "loading/Users/Nevaeh/PythonCSCourse/XcodePython/FindCell2/matlab/FissionYeast/60oil  Log/6h ve xy09.csg\n",
      "loading/Users/Nevaeh/PythonCSCourse/XcodePython/FindCell2/matlab/FissionYeast/60oil  Log/6h ve xy10.csg\n"
     ]
    }
   ],
   "source": [
    "seg_im_data = get_seg_im_data()"
   ]
  },
  {
   "cell_type": "code",
   "execution_count": 123,
   "metadata": {
    "collapsed": false
   },
   "outputs": [],
   "source": [
    "data = {'data':seg_im_data}"
   ]
  },
  {
   "cell_type": "code",
   "execution_count": 124,
   "metadata": {
    "collapsed": false
   },
   "outputs": [],
   "source": [
    "sio.savemat('seg_im_data.mat', data)"
   ]
  }
 ],
 "metadata": {
  "anaconda-cloud": {},
  "kernelspec": {
   "display_name": "Python [Root]",
   "language": "python",
   "name": "Python [Root]"
  },
  "language_info": {
   "codemirror_mode": {
    "name": "ipython",
    "version": 2
   },
   "file_extension": ".py",
   "mimetype": "text/x-python",
   "name": "python",
   "nbconvert_exporter": "python",
   "pygments_lexer": "ipython2",
   "version": "2.7.12"
  }
 },
 "nbformat": 4,
 "nbformat_minor": 0
}
